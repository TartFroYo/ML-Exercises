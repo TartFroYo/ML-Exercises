{
  "nbformat": 4,
  "nbformat_minor": 0,
  "metadata": {
    "colab": {
      "provenance": [],
      "authorship_tag": "ABX9TyOI6yViLLsLXkgoFfXGj1DN",
      "include_colab_link": true
    },
    "kernelspec": {
      "name": "python3",
      "display_name": "Python 3"
    },
    "language_info": {
      "name": "python"
    }
  },
  "cells": [
    {
      "cell_type": "markdown",
      "metadata": {
        "id": "view-in-github",
        "colab_type": "text"
      },
      "source": [
        "<a href=\"https://colab.research.google.com/github/TartFroYo/ML-Exercises/blob/main/MLProbabilityExercise.ipynb\" target=\"_parent\"><img src=\"https://colab.research.google.com/assets/colab-badge.svg\" alt=\"Open In Colab\"/></a>"
      ]
    },
    {
      "cell_type": "markdown",
      "source": [
        "#**Probability Practice**\n",
        "##**Part A**\n",
        "Visitors to your website are asked to answer a single survey question before they get access to the content on the page. Among all of the users, there are two categories:\n",
        "- Random Clicker (RC)\n",
        "- Truthful Clicker (TC)\n",
        "\n",
        "There are two possible answers to the survey: yes and no. Random clickers would click either one with equal probability. You are also giving the information that the expected fraction of random clickers is 0.3. After a trial period, you get the following survey results: 65% said Yes and 35% said No. **What fraction of people who are truthful clickers answered yes?** \\\n",
        "*Hint: use the rule of total probability.\n"
      ],
      "metadata": {
        "id": "0zuYBLthf5g0"
      }
    },
    {
      "cell_type": "markdown",
      "source": [
        "The fraction of people who are truthful clickers that answered yes is the probability P(yes | truthful).\n",
        "\n",
        "P(yes) = P(random)P(yes | random) + P(truthful)P(yes | truthful) \\\n",
        "0.65 = 0.3(0.5) + 0.7x \\\n",
        "0.5 = 0.7x \\\n",
        "x = 0.5 / 0.7 \\\n",
        "x = 0.71429 (rounded)\n",
        "\n",
        "71.4% of people who are truthful clickers answered yes."
      ],
      "metadata": {
        "id": "jhCqG35NYsg0"
      }
    },
    {
      "cell_type": "code",
      "source": [
        "(.65-.3*.5)/.7*100"
      ],
      "metadata": {
        "colab": {
          "base_uri": "https://localhost:8080/"
        },
        "id": "Nwh_ljc0u8Rh",
        "outputId": "31cde9ce-2982-4666-80b4-a017682cc98d"
      },
      "execution_count": 10,
      "outputs": [
        {
          "output_type": "execute_result",
          "data": {
            "text/plain": [
              "71.42857142857143"
            ]
          },
          "metadata": {},
          "execution_count": 10
        }
      ]
    },
    {
      "cell_type": "markdown",
      "source": [
        "##**Part B**\n",
        "Imagine a medical test for a disease with the following two attributes:\n",
        "\n",
        "- The sensitivity is about 0.993. That is, if someone has the disease, there is a probability of 0.993 that they will test positive.\n",
        "- The specificity is about 0.9999. This means that if someone doesn't have the disease, there is probability of 0.9999 that they will test negative.\n",
        "- In the general population, incidence of the disease is reasonably rare: about 0.0025% of all people have it (or 0.000025 as a decimal probability).\\\n",
        "Suppose someone tests positive. **What is the probability that they have the disease?**"
      ],
      "metadata": {
        "id": "eSmdcuxjg_4e"
      }
    },
    {
      "cell_type": "markdown",
      "source": [
        "The probability that someone has the disease given that they test positive can be written as P(has disease | test positive).\n",
        "\n",
        "P(has disease) = 0.0025 \\\n",
        "sensitivity = True positive rate \\\n",
        "P(test positive | has disease) = P(test positive, has disease) / P(has disease) = 0.993 \\\n",
        "\n",
        "specificity = 1 - FPR \\\n",
        "P(test negative | no disease) = P(test negative, no disease) / P(no disease) = 0.9999 \\\n",
        "False positive rate = 1 - specificity = 0.0001\n",
        "\n",
        "P(test positive) = P(has disease)P(test positive | has disease) + P(no disease) P(test positive | no disease) \\\n",
        "= P(test positive, has disease) + P(test positive, no disease)\n",
        "= (0.000025)sensitivity + (1 - 0.000025)FPR \\\n",
        "= (0.000025)0.993 + (1 - 0.000025)0.0001 = 0.000024825 + 0.00009975 \\\n",
        "= 0.0001248225\n",
        "\n",
        "P(has disease | test positive) \\\n",
        "= P(has disease, test positive) / P(test positive) \\\n",
        "= 0.000024825 / 0.0001248225 \\\n",
        "= 0.19889 (rounded)\n",
        "\n",
        "The probability that someone has the disease given that they test positive is 19.9%."
      ],
      "metadata": {
        "id": "l7CJHHqjbZsI"
      }
    },
    {
      "cell_type": "code",
      "source": [
        "dis_inc = .000025\n",
        "sens = .993\n",
        "spec = .9999\n",
        "fpr = 1-spec\n",
        "\n",
        "tpos = dis_inc*sens + (1-dis_inc)*fpr\n",
        "tpos\n",
        "ans = dis_inc*sens/tpos*100\n",
        "ans"
      ],
      "metadata": {
        "colab": {
          "base_uri": "https://localhost:8080/"
        },
        "id": "KjDSR8rWvLbD",
        "outputId": "a6b0ad58-3c3b-481f-cade-2d7107834859"
      },
      "execution_count": 11,
      "outputs": [
        {
          "output_type": "execute_result",
          "data": {
            "text/plain": [
              "19.888241302651515"
            ]
          },
          "metadata": {},
          "execution_count": 11
        }
      ]
    }
  ]
}
